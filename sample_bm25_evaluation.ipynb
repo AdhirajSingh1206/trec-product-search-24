{
 "cells": [
  {
   "cell_type": "code",
   "execution_count": 1,
   "id": "acb8b3f6-19d0-4d89-b2e0-22d5da787a35",
   "metadata": {
    "tags": []
   },
   "outputs": [],
   "source": [
    "from datasets import load_dataset\n",
    "import pandas as pd\n",
    "from rank_bm25 import BM25Okapi\n",
    "from tqdm import tqdm"
   ]
  },
  {
   "cell_type": "markdown",
   "id": "88979d43-c722-40de-8e2b-84fbbaab9a1a",
   "metadata": {},
   "source": [
    "## Loading datasets: "
   ]
  },
  {
   "cell_type": "code",
   "execution_count": 2,
   "id": "c7a798b3-8f5e-4a2c-924f-6389ee7d8b01",
   "metadata": {
    "tags": []
   },
   "outputs": [
    {
     "name": "stdout",
     "output_type": "stream",
     "text": [
      "494\n"
     ]
    },
    {
     "data": {
      "text/html": [
       "<div>\n",
       "<style scoped>\n",
       "    .dataframe tbody tr th:only-of-type {\n",
       "        vertical-align: middle;\n",
       "    }\n",
       "\n",
       "    .dataframe tbody tr th {\n",
       "        vertical-align: top;\n",
       "    }\n",
       "\n",
       "    .dataframe thead th {\n",
       "        text-align: right;\n",
       "    }\n",
       "</style>\n",
       "<table border=\"1\" class=\"dataframe\">\n",
       "  <thead>\n",
       "    <tr style=\"text-align: right;\">\n",
       "      <th></th>\n",
       "      <th>query</th>\n",
       "      <th>parent_asin</th>\n",
       "    </tr>\n",
       "  </thead>\n",
       "  <tbody>\n",
       "    <tr>\n",
       "      <th>0</th>\n",
       "      <td>plastic chopper boards</td>\n",
       "      <td>B01DIPJQC6</td>\n",
       "    </tr>\n",
       "    <tr>\n",
       "      <th>1</th>\n",
       "      <td>women exercise clothing</td>\n",
       "      <td>B01KGZHOGQ</td>\n",
       "    </tr>\n",
       "    <tr>\n",
       "      <th>2</th>\n",
       "      <td>mobarel adjustable wrench</td>\n",
       "      <td>B00D2SXJ0K</td>\n",
       "    </tr>\n",
       "    <tr>\n",
       "      <th>3</th>\n",
       "      <td>air filter for car</td>\n",
       "      <td>B00854L3YU</td>\n",
       "    </tr>\n",
       "    <tr>\n",
       "      <th>4</th>\n",
       "      <td>construx lego</td>\n",
       "      <td>B078J4C7D6</td>\n",
       "    </tr>\n",
       "  </tbody>\n",
       "</table>\n",
       "</div>"
      ],
      "text/plain": [
       "                       query parent_asin\n",
       "0     plastic chopper boards  B01DIPJQC6\n",
       "1    women exercise clothing  B01KGZHOGQ\n",
       "2  mobarel adjustable wrench  B00D2SXJ0K\n",
       "3         air filter for car  B00854L3YU\n",
       "4              construx lego  B078J4C7D6"
      ]
     },
     "execution_count": 2,
     "metadata": {},
     "output_type": "execute_result"
    }
   ],
   "source": [
    "eval_queries_df = pd.read_parquet('sample_retrieval_dataset.parquet')\n",
    "eval_queries = set(eval_queries_df['query'])\n",
    "print(len(eval_queries))\n",
    "eval_queries_df.head()"
   ]
  },
  {
   "cell_type": "code",
   "execution_count": 3,
   "id": "2ab9f5c9-3def-4186-9aca-9d765ba072f9",
   "metadata": {
    "tags": []
   },
   "outputs": [
    {
     "data": {
      "application/vnd.jupyter.widget-view+json": {
       "model_id": "cf378d338ce74eaab6fb359e976eaa9a",
       "version_major": 2,
       "version_minor": 0
      },
      "text/plain": [
       "Resolving data files:   0%|          | 0/21 [00:00<?, ?it/s]"
      ]
     },
     "metadata": {},
     "output_type": "display_data"
    },
    {
     "data": {
      "application/vnd.jupyter.widget-view+json": {
       "model_id": "b91bd9ab3b3a4f4dae6bd7c572b0e804",
       "version_major": 2,
       "version_minor": 0
      },
      "text/plain": [
       "Resolving data files:   0%|          | 0/21 [00:00<?, ?it/s]"
      ]
     },
     "metadata": {},
     "output_type": "display_data"
    },
    {
     "data": {
      "application/vnd.jupyter.widget-view+json": {
       "model_id": "83ccd1d6d6fa45088e92490a1a6a7629",
       "version_major": 2,
       "version_minor": 0
      },
      "text/plain": [
       "Loading dataset shards:   0%|          | 0/21 [00:00<?, ?it/s]"
      ]
     },
     "metadata": {},
     "output_type": "display_data"
    },
    {
     "name": "stdout",
     "output_type": "stream",
     "text": [
      "3289158\n"
     ]
    },
    {
     "data": {
      "text/html": [
       "<div>\n",
       "<style scoped>\n",
       "    .dataframe tbody tr th:only-of-type {\n",
       "        vertical-align: middle;\n",
       "    }\n",
       "\n",
       "    .dataframe tbody tr th {\n",
       "        vertical-align: top;\n",
       "    }\n",
       "\n",
       "    .dataframe thead th {\n",
       "        text-align: right;\n",
       "    }\n",
       "</style>\n",
       "<table border=\"1\" class=\"dataframe\">\n",
       "  <thead>\n",
       "    <tr style=\"text-align: right;\">\n",
       "      <th></th>\n",
       "      <th>main_category</th>\n",
       "      <th>title</th>\n",
       "      <th>average_rating</th>\n",
       "      <th>rating_number</th>\n",
       "      <th>features</th>\n",
       "      <th>description</th>\n",
       "      <th>images</th>\n",
       "      <th>videos</th>\n",
       "      <th>details</th>\n",
       "      <th>parent_asin</th>\n",
       "    </tr>\n",
       "  </thead>\n",
       "  <tbody>\n",
       "    <tr>\n",
       "      <th>0</th>\n",
       "      <td>Pet Supplies</td>\n",
       "      <td>Collapsible Dog Travel Bowl - Large</td>\n",
       "      <td>1.0</td>\n",
       "      <td>1</td>\n",
       "      <td>['Holds both food and water' 'Easy to clean an...</td>\n",
       "      <td>['Collapsible Dog Travel Large Bowl. This very...</td>\n",
       "      <td>{'hi_res': array([None], dtype=object), 'large...</td>\n",
       "      <td>{'title': array([], dtype=object), 'url': arra...</td>\n",
       "      <td>{\"Target Species\": \"Dog\", \"Special Feature\": \"...</td>\n",
       "      <td>B005FRLGF6</td>\n",
       "    </tr>\n",
       "    <tr>\n",
       "      <th>1</th>\n",
       "      <td>Buy a Kindle</td>\n",
       "      <td>ThoughtFull: Discovering Unique Gifts in Each ...</td>\n",
       "      <td>4.8</td>\n",
       "      <td>105</td>\n",
       "      <td>['This encouraging story shows how life change...</td>\n",
       "      <td>['About the Author' 'For more than twenty-two ...</td>\n",
       "      <td>{'hi_res': array([None], dtype=object), 'large...</td>\n",
       "      <td>{'title': array([], dtype=object), 'url': arra...</td>\n",
       "      <td>{\"Publisher\": \"B&amp;H Kids (August 15, 2018)\", \"P...</td>\n",
       "      <td>B07FYWV1HZ</td>\n",
       "    </tr>\n",
       "    <tr>\n",
       "      <th>2</th>\n",
       "      <td>Toys &amp; Games</td>\n",
       "      <td>YU-GI-OH! - Brain Control (TLM-EN038) - The Lo...</td>\n",
       "      <td>4.7</td>\n",
       "      <td>4</td>\n",
       "      <td>['A single individual card from the Yu-Gi-Oh! ...</td>\n",
       "      <td>[\"Yu-Gi-Oh! is a strategic trading card game i...</td>\n",
       "      <td>{'hi_res': array([None], dtype=object), 'large...</td>\n",
       "      <td>{'title': array([], dtype=object), 'url': arra...</td>\n",
       "      <td>{\"Item Weight\": \"0.06 ounces\", \"Manufacturer r...</td>\n",
       "      <td>B0028WKKU8</td>\n",
       "    </tr>\n",
       "    <tr>\n",
       "      <th>3</th>\n",
       "      <td>Appstore for Android</td>\n",
       "      <td>Word Search Inspiration</td>\n",
       "      <td>4.3</td>\n",
       "      <td>218.0</td>\n",
       "      <td>['EASY TO PLAY - It starts easy but gets chall...</td>\n",
       "      <td>['Find inspiration and activate your brain wit...</td>\n",
       "      <td>{'hi_res': array([None, None, None, None, None...</td>\n",
       "      <td>{'title': array([''], dtype=object), 'url': ar...</td>\n",
       "      <td>{\"Release Date\": \"2020\", \"Date first listed on...</td>\n",
       "      <td>B088R6YNZX</td>\n",
       "    </tr>\n",
       "    <tr>\n",
       "      <th>4</th>\n",
       "      <td>Prime Video</td>\n",
       "      <td>Ancient Greek Civilization Lecture 3 of 10 The...</td>\n",
       "      <td>4.2</td>\n",
       "      <td>7.0</td>\n",
       "      <td>['1 h 19 min' '2010' 'NR']</td>\n",
       "      <td>['Lecture 3 of 10:  The Trojan War.  As the My...</td>\n",
       "      <td>{'hi_res': array([None], dtype=object), 'large...</td>\n",
       "      <td>{'title': array([], dtype=object), 'url': arra...</td>\n",
       "      <td>{\"Content advisory\": [\"Nudity\", \"violence\"], \"...</td>\n",
       "      <td>B0042QES9M</td>\n",
       "    </tr>\n",
       "  </tbody>\n",
       "</table>\n",
       "</div>"
      ],
      "text/plain": [
       "          main_category                                              title  \\\n",
       "0          Pet Supplies                Collapsible Dog Travel Bowl - Large   \n",
       "1          Buy a Kindle  ThoughtFull: Discovering Unique Gifts in Each ...   \n",
       "2          Toys & Games  YU-GI-OH! - Brain Control (TLM-EN038) - The Lo...   \n",
       "3  Appstore for Android                            Word Search Inspiration   \n",
       "4           Prime Video  Ancient Greek Civilization Lecture 3 of 10 The...   \n",
       "\n",
       "  average_rating rating_number  \\\n",
       "0            1.0             1   \n",
       "1            4.8           105   \n",
       "2            4.7             4   \n",
       "3            4.3         218.0   \n",
       "4            4.2           7.0   \n",
       "\n",
       "                                            features  \\\n",
       "0  ['Holds both food and water' 'Easy to clean an...   \n",
       "1  ['This encouraging story shows how life change...   \n",
       "2  ['A single individual card from the Yu-Gi-Oh! ...   \n",
       "3  ['EASY TO PLAY - It starts easy but gets chall...   \n",
       "4                         ['1 h 19 min' '2010' 'NR']   \n",
       "\n",
       "                                         description  \\\n",
       "0  ['Collapsible Dog Travel Large Bowl. This very...   \n",
       "1  ['About the Author' 'For more than twenty-two ...   \n",
       "2  [\"Yu-Gi-Oh! is a strategic trading card game i...   \n",
       "3  ['Find inspiration and activate your brain wit...   \n",
       "4  ['Lecture 3 of 10:  The Trojan War.  As the My...   \n",
       "\n",
       "                                              images  \\\n",
       "0  {'hi_res': array([None], dtype=object), 'large...   \n",
       "1  {'hi_res': array([None], dtype=object), 'large...   \n",
       "2  {'hi_res': array([None], dtype=object), 'large...   \n",
       "3  {'hi_res': array([None, None, None, None, None...   \n",
       "4  {'hi_res': array([None], dtype=object), 'large...   \n",
       "\n",
       "                                              videos  \\\n",
       "0  {'title': array([], dtype=object), 'url': arra...   \n",
       "1  {'title': array([], dtype=object), 'url': arra...   \n",
       "2  {'title': array([], dtype=object), 'url': arra...   \n",
       "3  {'title': array([''], dtype=object), 'url': ar...   \n",
       "4  {'title': array([], dtype=object), 'url': arra...   \n",
       "\n",
       "                                             details parent_asin  \n",
       "0  {\"Target Species\": \"Dog\", \"Special Feature\": \"...  B005FRLGF6  \n",
       "1  {\"Publisher\": \"B&H Kids (August 15, 2018)\", \"P...  B07FYWV1HZ  \n",
       "2  {\"Item Weight\": \"0.06 ounces\", \"Manufacturer r...  B0028WKKU8  \n",
       "3  {\"Release Date\": \"2020\", \"Date first listed on...  B088R6YNZX  \n",
       "4  {\"Content advisory\": [\"Nudity\", \"violence\"], \"...  B0042QES9M  "
      ]
     },
     "execution_count": 3,
     "metadata": {},
     "output_type": "execute_result"
    }
   ],
   "source": [
    "dataset = load_dataset(\"AdhirajSingh1206/TREC-Zero-Shot-Product-Search\", split=\"full\")\n",
    "dataset = dataset.to_pandas()\n",
    "print(len(dataset))\n",
    "dataset.head()"
   ]
  },
  {
   "cell_type": "markdown",
   "id": "c0296b3a-1672-4544-93dc-c2e18cd2db3b",
   "metadata": {},
   "source": [
    "## Creating simple baseline using bm25 on the title:"
   ]
  },
  {
   "cell_type": "code",
   "execution_count": 4,
   "id": "5f05e7a6-b24d-4cf1-bf62-ff3cabe5c78a",
   "metadata": {
    "tags": []
   },
   "outputs": [],
   "source": [
    "queries = list(eval_queries_df['query'])\n",
    "ideal_item_ids = list(eval_queries_df['parent_asin'])\n",
    "\n",
    "hit_rates = []\n",
    "\n",
    "tokenized_titles = [title.lower().split() for title in dataset['title']]\n",
    "bm25 = BM25Okapi(tokenized_titles)"
   ]
  },
  {
   "cell_type": "code",
   "execution_count": 5,
   "id": "ea62f152-1163-4e59-b1a1-3f07a9d56308",
   "metadata": {
    "tags": []
   },
   "outputs": [
    {
     "name": "stderr",
     "output_type": "stream",
     "text": [
      "500it [2:33:33, 18.43s/it]"
     ]
    },
    {
     "name": "stdout",
     "output_type": "stream",
     "text": [
      "Average Hit Rate @ 50: 0.236\n"
     ]
    },
    {
     "name": "stderr",
     "output_type": "stream",
     "text": [
      "\n"
     ]
    }
   ],
   "source": [
    "for query, ideal_id in tqdm(zip(queries, ideal_item_ids)):\n",
    "    \n",
    "    query_tokens = query.lower().split()\n",
    "    bm25_scores = bm25.get_scores(query_tokens)\n",
    "\n",
    "    sorted_product_ids = [product_id for _, product_id in sorted(zip(bm25_scores, dataset['parent_asin']), reverse=True)]\n",
    "\n",
    "    if ideal_id in sorted_product_ids[:50]:\n",
    "        hit_rates.append(1)\n",
    "    else:\n",
    "        hit_rates.append(0)\n",
    "\n",
    "average_hit_rate = sum(hit_rates) / len(hit_rates)\n",
    "print(f\"Average Hit Rate @ 50: {average_hit_rate}\")"
   ]
  }
 ],
 "metadata": {
  "environment": {
   "kernel": "python3",
   "name": ".m120",
   "type": "gcloud",
   "uri": "us-docker.pkg.dev/deeplearning-platform-release/gcr.io/:m120"
  },
  "kernelspec": {
   "display_name": "Python 3",
   "language": "python",
   "name": "python3"
  },
  "language_info": {
   "codemirror_mode": {
    "name": "ipython",
    "version": 3
   },
   "file_extension": ".py",
   "mimetype": "text/x-python",
   "name": "python",
   "nbconvert_exporter": "python",
   "pygments_lexer": "ipython3",
   "version": "3.10.14"
  }
 },
 "nbformat": 4,
 "nbformat_minor": 5
}
