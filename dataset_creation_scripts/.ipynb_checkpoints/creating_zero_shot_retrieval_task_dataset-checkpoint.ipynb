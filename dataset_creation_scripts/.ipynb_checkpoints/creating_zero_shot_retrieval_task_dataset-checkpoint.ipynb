{
 "cells": [
  {
   "cell_type": "code",
   "execution_count": 1,
   "id": "73b512c4-3a8a-4f30-9b47-2c1e75845ed3",
   "metadata": {
    "tags": []
   },
   "outputs": [],
   "source": [
    "import pandas as pd\n",
    "import numpy as np\n",
    "import matplotlib.pyplot as plt\n",
    "import seaborn as sns\n",
    "from tqdm import tqdm\n",
    "import pyarrow.parquet as pq\n",
    "import pyarrow as pa\n",
    "import os\n",
    "\n",
    "np.random.seed(42)"
   ]
  },
  {
   "cell_type": "code",
   "execution_count": 2,
   "id": "1dfbda79-8990-4e49-8cbd-8704f622182e",
   "metadata": {
    "tags": []
   },
   "outputs": [
    {
     "name": "stdout",
     "output_type": "stream",
     "text": [
      "Number of items in queries_amazon_review_sample_good 256658\n"
     ]
    },
    {
     "data": {
      "text/html": [
       "<div>\n",
       "<style scoped>\n",
       "    .dataframe tbody tr th:only-of-type {\n",
       "        vertical-align: middle;\n",
       "    }\n",
       "\n",
       "    .dataframe tbody tr th {\n",
       "        vertical-align: top;\n",
       "    }\n",
       "\n",
       "    .dataframe thead th {\n",
       "        text-align: right;\n",
       "    }\n",
       "</style>\n",
       "<table border=\"1\" class=\"dataframe\">\n",
       "  <thead>\n",
       "    <tr style=\"text-align: right;\">\n",
       "      <th></th>\n",
       "      <th>query</th>\n",
       "      <th>item_id</th>\n",
       "      <th>proba</th>\n",
       "      <th>entropy</th>\n",
       "      <th>predicted_label</th>\n",
       "    </tr>\n",
       "  </thead>\n",
       "  <tbody>\n",
       "    <tr>\n",
       "      <th>0</th>\n",
       "      <td>party to go mobile in store</td>\n",
       "      <td>B003ZRA3EI</td>\n",
       "      <td>[0.04296875, 0.0252685546875, 0.93359375]</td>\n",
       "      <td>0.292969</td>\n",
       "      <td>2</td>\n",
       "    </tr>\n",
       "    <tr>\n",
       "      <th>1</th>\n",
       "      <td>double mijwiz in store</td>\n",
       "      <td>B00CB5BMHW</td>\n",
       "      <td>[0.0108642578125, 0.0189208984375, 0.968750000...</td>\n",
       "      <td>0.155273</td>\n",
       "      <td>2</td>\n",
       "    </tr>\n",
       "    <tr>\n",
       "      <th>2</th>\n",
       "      <td>restaurant gift card</td>\n",
       "      <td>B00PG23W84</td>\n",
       "      <td>[0.001014709472656, 0.00457763671875, 0.99609375]</td>\n",
       "      <td>0.034912</td>\n",
       "      <td>2</td>\n",
       "    </tr>\n",
       "    <tr>\n",
       "      <th>3</th>\n",
       "      <td>free calling</td>\n",
       "      <td>B00JFOFJSK</td>\n",
       "      <td>[0.0103759765625, 0.051025390625, 0.9375]</td>\n",
       "      <td>0.259766</td>\n",
       "      <td>2</td>\n",
       "    </tr>\n",
       "    <tr>\n",
       "      <th>4</th>\n",
       "      <td>gift cards to purchase</td>\n",
       "      <td>B01GKWEY9O</td>\n",
       "      <td>[0.0018615722656250002, 0.004608154296875, 0.9...</td>\n",
       "      <td>0.039062</td>\n",
       "      <td>2</td>\n",
       "    </tr>\n",
       "  </tbody>\n",
       "</table>\n",
       "</div>"
      ],
      "text/plain": [
       "                         query     item_id  \\\n",
       "0  party to go mobile in store  B003ZRA3EI   \n",
       "1       double mijwiz in store  B00CB5BMHW   \n",
       "2         restaurant gift card  B00PG23W84   \n",
       "3                 free calling  B00JFOFJSK   \n",
       "4       gift cards to purchase  B01GKWEY9O   \n",
       "\n",
       "                                               proba   entropy  \\\n",
       "0          [0.04296875, 0.0252685546875, 0.93359375]  0.292969   \n",
       "1  [0.0108642578125, 0.0189208984375, 0.968750000...  0.155273   \n",
       "2  [0.001014709472656, 0.00457763671875, 0.99609375]  0.034912   \n",
       "3          [0.0103759765625, 0.051025390625, 0.9375]  0.259766   \n",
       "4  [0.0018615722656250002, 0.004608154296875, 0.9...  0.039062   \n",
       "\n",
       "   predicted_label  \n",
       "0                2  \n",
       "1                2  \n",
       "2                2  \n",
       "3                2  \n",
       "4                2  "
      ]
     },
     "execution_count": 2,
     "metadata": {},
     "output_type": "execute_result"
    }
   ],
   "source": [
    "# Loading new query dataset:\n",
    "\n",
    "queries_amazon_review_sample_good = pd.read_json('../other_datasets/queries_amazon_review_sample_good.json', lines=True)\n",
    "print('Number of items in queries_amazon_review_sample_good', queries_amazon_review_sample_good['item_id'].nunique())\n",
    "queries_amazon_review_sample_good.head()"
   ]
  },
  {
   "cell_type": "code",
   "execution_count": 3,
   "id": "7b63541b-88ce-4a32-ac40-221640d0dc42",
   "metadata": {
    "tags": []
   },
   "outputs": [
    {
     "name": "stdout",
     "output_type": "stream",
     "text": [
      "1802772\n"
     ]
    },
    {
     "data": {
      "text/html": [
       "<div>\n",
       "<style scoped>\n",
       "    .dataframe tbody tr th:only-of-type {\n",
       "        vertical-align: middle;\n",
       "    }\n",
       "\n",
       "    .dataframe tbody tr th {\n",
       "        vertical-align: top;\n",
       "    }\n",
       "\n",
       "    .dataframe thead th {\n",
       "        text-align: right;\n",
       "    }\n",
       "</style>\n",
       "<table border=\"1\" class=\"dataframe\">\n",
       "  <thead>\n",
       "    <tr style=\"text-align: right;\">\n",
       "      <th></th>\n",
       "      <th>example_id</th>\n",
       "      <th>query</th>\n",
       "      <th>query_id</th>\n",
       "      <th>product_id</th>\n",
       "      <th>product_locale</th>\n",
       "      <th>esci_label</th>\n",
       "      <th>small_version</th>\n",
       "      <th>large_version</th>\n",
       "      <th>split</th>\n",
       "    </tr>\n",
       "  </thead>\n",
       "  <tbody>\n",
       "    <tr>\n",
       "      <th>0</th>\n",
       "      <td>0</td>\n",
       "      <td>revent 80 cfm</td>\n",
       "      <td>0</td>\n",
       "      <td>B000MOO21W</td>\n",
       "      <td>us</td>\n",
       "      <td>I</td>\n",
       "      <td>0</td>\n",
       "      <td>1</td>\n",
       "      <td>train</td>\n",
       "    </tr>\n",
       "    <tr>\n",
       "      <th>1</th>\n",
       "      <td>1</td>\n",
       "      <td>revent 80 cfm</td>\n",
       "      <td>0</td>\n",
       "      <td>B07X3Y6B1V</td>\n",
       "      <td>us</td>\n",
       "      <td>E</td>\n",
       "      <td>0</td>\n",
       "      <td>1</td>\n",
       "      <td>train</td>\n",
       "    </tr>\n",
       "    <tr>\n",
       "      <th>2</th>\n",
       "      <td>2</td>\n",
       "      <td>revent 80 cfm</td>\n",
       "      <td>0</td>\n",
       "      <td>B07WDM7MQQ</td>\n",
       "      <td>us</td>\n",
       "      <td>E</td>\n",
       "      <td>0</td>\n",
       "      <td>1</td>\n",
       "      <td>train</td>\n",
       "    </tr>\n",
       "    <tr>\n",
       "      <th>3</th>\n",
       "      <td>3</td>\n",
       "      <td>revent 80 cfm</td>\n",
       "      <td>0</td>\n",
       "      <td>B07RH6Z8KW</td>\n",
       "      <td>us</td>\n",
       "      <td>E</td>\n",
       "      <td>0</td>\n",
       "      <td>1</td>\n",
       "      <td>train</td>\n",
       "    </tr>\n",
       "    <tr>\n",
       "      <th>4</th>\n",
       "      <td>4</td>\n",
       "      <td>revent 80 cfm</td>\n",
       "      <td>0</td>\n",
       "      <td>B07QJ7WYFQ</td>\n",
       "      <td>us</td>\n",
       "      <td>E</td>\n",
       "      <td>0</td>\n",
       "      <td>1</td>\n",
       "      <td>train</td>\n",
       "    </tr>\n",
       "  </tbody>\n",
       "</table>\n",
       "</div>"
      ],
      "text/plain": [
       "   example_id           query  query_id  product_id product_locale esci_label  \\\n",
       "0           0   revent 80 cfm         0  B000MOO21W             us          I   \n",
       "1           1   revent 80 cfm         0  B07X3Y6B1V             us          E   \n",
       "2           2   revent 80 cfm         0  B07WDM7MQQ             us          E   \n",
       "3           3   revent 80 cfm         0  B07RH6Z8KW             us          E   \n",
       "4           4   revent 80 cfm         0  B07QJ7WYFQ             us          E   \n",
       "\n",
       "   small_version  large_version  split  \n",
       "0              0              1  train  \n",
       "1              0              1  train  \n",
       "2              0              1  train  \n",
       "3              0              1  train  \n",
       "4              0              1  train  "
      ]
     },
     "execution_count": 3,
     "metadata": {},
     "output_type": "execute_result"
    }
   ],
   "source": [
    "# Loading ESCI dataset:\n",
    "\n",
    "df_examples = pd.read_parquet('../other_datasets/shopping_queries_dataset_examples.parquet')\n",
    "esci_dataset_all_product_ids = set(df_examples['product_id'])\n",
    "print(len(esci_dataset_all_product_ids))\n",
    "df_examples.head()"
   ]
  },
  {
   "cell_type": "code",
   "execution_count": 4,
   "id": "3f858aa3-6133-4ea3-8894-aaa557489028",
   "metadata": {
    "tags": []
   },
   "outputs": [
    {
     "name": "stdout",
     "output_type": "stream",
     "text": [
      "Number of items in queries_amazon_review_sample_good 256658\n",
      "Number of items in query_asins_minus_esci_dataset: 251998\n"
     ]
    }
   ],
   "source": [
    "# Removing items from new query dataset which occur in ESCI: \n",
    "\n",
    "query_asins = set(queries_amazon_review_sample_good['item_id'].unique())\n",
    "print('Number of items in queries_amazon_review_sample_good', len(query_asins))\n",
    "\n",
    "query_asins_minus_esci_dataset = query_asins.difference(esci_dataset_all_product_ids)\n",
    "\n",
    "print(\"Number of items in query_asins_minus_esci_dataset:\",  len(query_asins_minus_esci_dataset))"
   ]
  },
  {
   "cell_type": "code",
   "execution_count": null,
   "id": "000527c0-7183-473d-af19-44064e810ba0",
   "metadata": {
    "tags": []
   },
   "outputs": [
    {
     "name": "stdout",
     "output_type": "stream",
     "text": [
      "31\n"
     ]
    },
    {
     "name": "stderr",
     "output_type": "stream",
     "text": [
      "  0%|          | 0/31 [00:00<?, ?it/s]"
     ]
    },
    {
     "name": "stdout",
     "output_type": "stream",
     "text": [
      "raw_meta_Kindle_Store.csv\n",
      "table schema main_category: string\n",
      "title: string\n",
      "average_rating: string\n",
      "rating_number: string\n",
      "features: string\n",
      "description: string\n",
      "images: string\n",
      "videos: string\n",
      "details: string\n",
      "parent_asin: string\n",
      "-- schema metadata --\n",
      "pandas: '{\"index_columns\": [{\"kind\": \"range\", \"name\": null, \"start\": 0, \"' + 1451\n"
     ]
    },
    {
     "name": "stderr",
     "output_type": "stream",
     "text": [
      "  3%|▎         | 1/31 [01:47<53:50, 107.68s/it]"
     ]
    },
    {
     "name": "stdout",
     "output_type": "stream",
     "text": [
      "raw_meta_Health_and_Personal_Care.csv\n"
     ]
    },
    {
     "name": "stderr",
     "output_type": "stream",
     "text": [
      "  6%|▋         | 2/31 [01:48<21:37, 44.75s/it] "
     ]
    },
    {
     "name": "stdout",
     "output_type": "stream",
     "text": [
      "raw_meta_Clothing_Shoes_and_Jewelry.csv\n"
     ]
    }
   ],
   "source": [
    "# combining all category parquet files into one: (uncomment the following lines)\n",
    "\n",
    "csv_files = [file for file in os.listdir('../downloaded_amazon_meta_datasets_csv') if file.endswith('.csv')]\n",
    "print(len(csv_files))\n",
    "\n",
    "parquet_writer = None\n",
    "\n",
    "for csv_file in tqdm(csv_files):\n",
    "    print(csv_file)\n",
    "    for chunk in pd.read_csv('../downloaded_amazon_meta_datasets_csv/'+csv_file, chunksize=10000):\n",
    "        chunk = chunk.astype(str)\n",
    "        table = pa.Table.from_pandas(chunk)\n",
    "        if parquet_writer is None:\n",
    "            print('table schema', table.schema)\n",
    "            parquet_writer = pq.ParquetWriter('../downloaded_amazon_meta_datasets_csv/amazon_reviews_23_all_metadata_appended.parquet', table.schema)\n",
    "        parquet_writer.write_table(table)\n",
    "        del table\n",
    "        del chunk\n",
    "\n",
    "if parquet_writer is not None:\n",
    "    parquet_writer.close()"
   ]
  },
  {
   "cell_type": "code",
   "execution_count": null,
   "id": "aa169af8-5ae1-4cd5-8910-08d1e90184d8",
   "metadata": {
    "tags": []
   },
   "outputs": [],
   "source": [
    "# Loading all_meta dataset:\n",
    "\n",
    "all_metadata = pd.read_parquet('../downloaded_amazon_meta_datasets_csv/amazon_reviews_23_all_metadata_appended.parquet')\n",
    "\n",
    "print(len(all_metadata))\n",
    "all_metadata.head()"
   ]
  },
  {
   "cell_type": "code",
   "execution_count": null,
   "id": "4ddeafad-0bd7-4eae-ad1e-00f095053106",
   "metadata": {
    "tags": []
   },
   "outputs": [],
   "source": [
    "# checking number of products per category:\n",
    "print(all_metadata.groupby('main_category').size())"
   ]
  },
  {
   "cell_type": "code",
   "execution_count": null,
   "id": "222aa915-2e53-4c7a-8a87-cb308e2f3ff8",
   "metadata": {
    "tags": []
   },
   "outputs": [],
   "source": [
    "all_metadata['main_category'] = all_metadata['main_category'].replace('nan', np.nan)\n",
    "all_metadata.dropna(subset=['main_category'], inplace=True)\n",
    "print(all_metadata.groupby('main_category').size())"
   ]
  },
  {
   "cell_type": "code",
   "execution_count": null,
   "id": "e8a18064-5e2d-46dd-bb7d-a1bff805e258",
   "metadata": {
    "tags": []
   },
   "outputs": [],
   "source": [
    "# Removing esci sins from meta_datset\n",
    "\n",
    "print(len(set(esci_dataset_all_product_ids)))\n",
    "\n",
    "print(len(all_metadata), len(set(all_metadata['parent_asin'])))\n",
    "\n",
    "all_meta_minus_esci = all_metadata[~all_metadata['parent_asin'].isin(esci_dataset_all_product_ids)]\n",
    "\n",
    "print(len(all_meta_minus_esci), len(set(all_meta_minus_esci['parent_asin'])))"
   ]
  },
  {
   "cell_type": "code",
   "execution_count": null,
   "id": "c0cc8afa-f319-476c-87ed-84d2bc40ccd1",
   "metadata": {
    "tags": []
   },
   "outputs": [],
   "source": [
    "# Refining meta_dataset\n",
    "\n",
    "print('original', len(all_meta_minus_esci))\n",
    "\n",
    "all_meta_minus_esci = all_meta_minus_esci[all_meta_minus_esci['title'].str.len() >= 5]\n",
    "print('removing title < 5', len(all_meta_minus_esci))\n",
    "\n",
    "all_meta_minus_esci = all_meta_minus_esci[all_meta_minus_esci['features'] != '[]']\n",
    "print('removing empty features', len(all_meta_minus_esci))\n",
    "\n",
    "all_meta_minus_esci = all_meta_minus_esci[all_meta_minus_esci['description'] != '[]']\n",
    "print('removing empty description', len(all_meta_minus_esci))\n",
    "\n",
    "all_meta_minus_esci = all_meta_minus_esci[all_meta_minus_esci['details'] != '{}']\n",
    "print('removing empty details', len(all_meta_minus_esci))\n",
    "\n",
    "all_meta_minus_esci = all_meta_minus_esci.dropna()\n",
    "print('removing rows with nan', len(all_meta_minus_esci))\n",
    "\n"
   ]
  },
  {
   "cell_type": "code",
   "execution_count": null,
   "id": "788055d9-8115-487d-875e-75c114de014e",
   "metadata": {
    "tags": []
   },
   "outputs": [],
   "source": [
    "# randomly sampling 130,000 products from each category\n",
    "\n",
    "sampled_meta_dataset = all_meta_minus_esci.groupby('main_category').apply(lambda x: x.sample(min(130000, len(x)))).reset_index(drop=True)\n",
    "print(len(sampled_meta_dataset))\n",
    "sampled_meta_dataset.head()"
   ]
  },
  {
   "cell_type": "code",
   "execution_count": null,
   "id": "d73cf1b7-113d-44b8-8fa1-84240493c196",
   "metadata": {
    "tags": []
   },
   "outputs": [],
   "source": [
    "# removing rows with query asins\n",
    "\n",
    "print(len(query_asins_minus_esci_dataset))\n",
    "print(sampled_meta_dataset['parent_asin'].nunique())\n",
    "\n",
    "sampled_meta_dataset_minus_query_asins = sampled_meta_dataset[~sampled_meta_dataset['parent_asin'].isin(query_asins_minus_esci_dataset)]\n",
    "\n",
    "print(len(sampled_meta_dataset_minus_query_asins))\n",
    "print(sampled_meta_dataset_minus_query_asins['parent_asin'].nunique())"
   ]
  },
  {
   "cell_type": "code",
   "execution_count": null,
   "id": "e0bd9bf5-806c-4109-a76b-ba51ad99f1cb",
   "metadata": {
    "tags": []
   },
   "outputs": [],
   "source": [
    "plt.figure(figsize=(30, 10))\n",
    "sns.countplot(x='main_category', data=sampled_meta_dataset_minus_query_asins)\n",
    "plt.title('Count of Products by Main Category')\n",
    "plt.xticks(rotation=75)\n",
    "plt.show()"
   ]
  },
  {
   "cell_type": "code",
   "execution_count": null,
   "id": "292eb15c-c647-43c2-b67b-1d033aa05b8c",
   "metadata": {
    "tags": []
   },
   "outputs": [],
   "source": [
    "# create sub_meta_dataset for query asins\n",
    "\n",
    "print(len(query_asins_minus_esci_dataset))\n",
    "print(all_metadata['parent_asin'].nunique())\n",
    "\n",
    "query_asin_metadata = all_metadata[all_metadata['parent_asin'].isin(query_asins_minus_esci_dataset)]\n",
    "\n",
    "print(len(query_asin_metadata), query_asin_metadata['parent_asin'].nunique())"
   ]
  },
  {
   "cell_type": "code",
   "execution_count": null,
   "id": "bbab3e2b-fe0c-46e2-92bd-90980d560813",
   "metadata": {
    "tags": []
   },
   "outputs": [],
   "source": [
    "plt.figure(figsize=(30, 10))\n",
    "sns.countplot(x='main_category', data=query_asin_metadata)\n",
    "plt.title('Count of Products by Main Category')\n",
    "plt.xticks(rotation=75)\n",
    "plt.show()"
   ]
  },
  {
   "cell_type": "code",
   "execution_count": null,
   "id": "695493b0-9497-436a-b35d-9a835475ae8b",
   "metadata": {
    "tags": []
   },
   "outputs": [],
   "source": [
    "# query_asin_metadata['from_query_dataset'] = 1\n",
    "# sampled_meta_dataset_minus_query_asins['from_query_dataset'] = 0\n",
    "\n",
    "print('length of query_asin_metadata', len(query_asin_metadata))\n",
    "print('length of sampled_meta_dataset_minus_query_asins', len(sampled_meta_dataset_minus_query_asins))\n",
    "\n",
    "combined_df = pd.concat([query_asin_metadata, sampled_meta_dataset_minus_query_asins], ignore_index=True)\n",
    "print('length of combined_df', len(combined_df))\n",
    "combined_df = combined_df.sample(frac=1).reset_index(drop=True)\n",
    "\n",
    "combined_df.head()"
   ]
  },
  {
   "cell_type": "code",
   "execution_count": null,
   "id": "4655e2e0-468f-45e5-b43f-74e65fd1b99d",
   "metadata": {
    "tags": []
   },
   "outputs": [],
   "source": [
    "print(len(combined_df))\n",
    "plt.figure(figsize=(30, 10))\n",
    "sns.countplot(x='main_category', data=combined_df)\n",
    "plt.title('Count of Products by Main Category')\n",
    "plt.xticks(rotation=75)\n",
    "plt.show()"
   ]
  },
  {
   "cell_type": "code",
   "execution_count": null,
   "id": "0652d918-dac8-4ee5-b8dc-ca3db5e83124",
   "metadata": {
    "tags": []
   },
   "outputs": [],
   "source": [
    "combined_df.to_parquet('../zero_shot_retrieval_task_dataset.parquet', index=False)"
   ]
  },
  {
   "cell_type": "markdown",
   "id": "f0065397-81b9-42c8-b9b5-e9d9affcc36c",
   "metadata": {
    "tags": []
   },
   "source": [
    "# Reading the final dataset:"
   ]
  },
  {
   "cell_type": "code",
   "execution_count": null,
   "id": "609b29ed-d0f4-4306-b59b-c3d9d3962162",
   "metadata": {
    "tags": []
   },
   "outputs": [],
   "source": [
    "import pandas as pd\n",
    "final_dataset = pd.read_parquet('../zero_shot_retrieval_task_dataset.parquet')\n",
    "print(len(final_dataset))\n",
    "final_dataset.head()"
   ]
  },
  {
   "cell_type": "code",
   "execution_count": null,
   "id": "04a42504-b306-47a7-b7d5-5e631a790787",
   "metadata": {
    "tags": []
   },
   "outputs": [],
   "source": [
    "final_dataset.tail()"
   ]
  },
  {
   "cell_type": "code",
   "execution_count": null,
   "id": "3f1be804-adae-4f6d-a4f1-04c08efd5773",
   "metadata": {
    "tags": []
   },
   "outputs": [],
   "source": [
    "final_dataset['images'][0]"
   ]
  },
  {
   "cell_type": "code",
   "execution_count": null,
   "id": "10d84a8a-98df-4cf2-8a5f-54cb8982935b",
   "metadata": {
    "tags": []
   },
   "outputs": [],
   "source": [
    "final_dataset['images'][3289115]"
   ]
  },
  {
   "cell_type": "markdown",
   "id": "144575a0-ca76-4963-b988-c3f88797c80f",
   "metadata": {},
   "source": [
    "# Uploading to HF:"
   ]
  },
  {
   "cell_type": "code",
   "execution_count": 6,
   "id": "390f92d7-77b3-4a74-890f-40a23961c09b",
   "metadata": {
    "tags": []
   },
   "outputs": [],
   "source": [
    "from datasets import Dataset\n",
    "hf_dataset = Dataset.from_pandas(final_dataset)"
   ]
  },
  {
   "cell_type": "code",
   "execution_count": 12,
   "id": "30ba2798-d18d-4b22-8747-d65d9b72b4ba",
   "metadata": {
    "tags": []
   },
   "outputs": [
    {
     "data": {
      "application/vnd.jupyter.widget-view+json": {
       "model_id": "f6fc62797c7c465bbe507ae78eb66399",
       "version_major": 2,
       "version_minor": 0
      },
      "text/plain": [
       "Uploading the dataset shards:   0%|          | 0/21 [00:00<?, ?it/s]"
      ]
     },
     "metadata": {},
     "output_type": "display_data"
    },
    {
     "data": {
      "application/vnd.jupyter.widget-view+json": {
       "model_id": "5a02661114de49eb8519858a45ed2f50",
       "version_major": 2,
       "version_minor": 0
      },
      "text/plain": [
       "Creating parquet from Arrow format:   0%|          | 0/157 [00:00<?, ?ba/s]"
      ]
     },
     "metadata": {},
     "output_type": "display_data"
    },
    {
     "data": {
      "application/vnd.jupyter.widget-view+json": {
       "model_id": "cc57713fff9f463c9bb2b58b1c037c22",
       "version_major": 2,
       "version_minor": 0
      },
      "text/plain": [
       "Creating parquet from Arrow format:   0%|          | 0/157 [00:00<?, ?ba/s]"
      ]
     },
     "metadata": {},
     "output_type": "display_data"
    },
    {
     "data": {
      "application/vnd.jupyter.widget-view+json": {
       "model_id": "661589f20369494083419d1fe0c7c458",
       "version_major": 2,
       "version_minor": 0
      },
      "text/plain": [
       "Creating parquet from Arrow format:   0%|          | 0/157 [00:00<?, ?ba/s]"
      ]
     },
     "metadata": {},
     "output_type": "display_data"
    },
    {
     "data": {
      "application/vnd.jupyter.widget-view+json": {
       "model_id": "fb1f0147fa204481b732ca902feae666",
       "version_major": 2,
       "version_minor": 0
      },
      "text/plain": [
       "Creating parquet from Arrow format:   0%|          | 0/157 [00:00<?, ?ba/s]"
      ]
     },
     "metadata": {},
     "output_type": "display_data"
    },
    {
     "data": {
      "application/vnd.jupyter.widget-view+json": {
       "model_id": "90a44a49012b4377855c93f93b6f44e3",
       "version_major": 2,
       "version_minor": 0
      },
      "text/plain": [
       "Creating parquet from Arrow format:   0%|          | 0/157 [00:00<?, ?ba/s]"
      ]
     },
     "metadata": {},
     "output_type": "display_data"
    },
    {
     "data": {
      "application/vnd.jupyter.widget-view+json": {
       "model_id": "5cecedbb3596438d9a22992c1deb97f9",
       "version_major": 2,
       "version_minor": 0
      },
      "text/plain": [
       "Creating parquet from Arrow format:   0%|          | 0/157 [00:00<?, ?ba/s]"
      ]
     },
     "metadata": {},
     "output_type": "display_data"
    },
    {
     "data": {
      "application/vnd.jupyter.widget-view+json": {
       "model_id": "4f0c95dbd82c4972965ef8bf5f83751f",
       "version_major": 2,
       "version_minor": 0
      },
      "text/plain": [
       "Creating parquet from Arrow format:   0%|          | 0/157 [00:00<?, ?ba/s]"
      ]
     },
     "metadata": {},
     "output_type": "display_data"
    },
    {
     "data": {
      "application/vnd.jupyter.widget-view+json": {
       "model_id": "72599bd7553444ce81d86111e47513f3",
       "version_major": 2,
       "version_minor": 0
      },
      "text/plain": [
       "Creating parquet from Arrow format:   0%|          | 0/157 [00:00<?, ?ba/s]"
      ]
     },
     "metadata": {},
     "output_type": "display_data"
    },
    {
     "data": {
      "application/vnd.jupyter.widget-view+json": {
       "model_id": "d540a21fa0654f02af0e1500f0ca6d78",
       "version_major": 2,
       "version_minor": 0
      },
      "text/plain": [
       "Creating parquet from Arrow format:   0%|          | 0/157 [00:00<?, ?ba/s]"
      ]
     },
     "metadata": {},
     "output_type": "display_data"
    },
    {
     "data": {
      "application/vnd.jupyter.widget-view+json": {
       "model_id": "c9a3310b50ab40f1b7e0b41922d325b9",
       "version_major": 2,
       "version_minor": 0
      },
      "text/plain": [
       "Creating parquet from Arrow format:   0%|          | 0/157 [00:00<?, ?ba/s]"
      ]
     },
     "metadata": {},
     "output_type": "display_data"
    },
    {
     "data": {
      "application/vnd.jupyter.widget-view+json": {
       "model_id": "06be406e4f564cb69661a26cb500ed16",
       "version_major": 2,
       "version_minor": 0
      },
      "text/plain": [
       "Creating parquet from Arrow format:   0%|          | 0/157 [00:00<?, ?ba/s]"
      ]
     },
     "metadata": {},
     "output_type": "display_data"
    },
    {
     "data": {
      "application/vnd.jupyter.widget-view+json": {
       "model_id": "2a058f6fa188418b8a8c3e970674d160",
       "version_major": 2,
       "version_minor": 0
      },
      "text/plain": [
       "Creating parquet from Arrow format:   0%|          | 0/157 [00:00<?, ?ba/s]"
      ]
     },
     "metadata": {},
     "output_type": "display_data"
    },
    {
     "data": {
      "application/vnd.jupyter.widget-view+json": {
       "model_id": "1c0b4ce584e642c8b567cf66ec9d93a4",
       "version_major": 2,
       "version_minor": 0
      },
      "text/plain": [
       "Creating parquet from Arrow format:   0%|          | 0/157 [00:00<?, ?ba/s]"
      ]
     },
     "metadata": {},
     "output_type": "display_data"
    },
    {
     "data": {
      "application/vnd.jupyter.widget-view+json": {
       "model_id": "427a7c6001264efe982fc37940aba859",
       "version_major": 2,
       "version_minor": 0
      },
      "text/plain": [
       "Creating parquet from Arrow format:   0%|          | 0/157 [00:00<?, ?ba/s]"
      ]
     },
     "metadata": {},
     "output_type": "display_data"
    },
    {
     "data": {
      "application/vnd.jupyter.widget-view+json": {
       "model_id": "ce9eeb7f03a64525bd1a9e40c5d10798",
       "version_major": 2,
       "version_minor": 0
      },
      "text/plain": [
       "Creating parquet from Arrow format:   0%|          | 0/157 [00:00<?, ?ba/s]"
      ]
     },
     "metadata": {},
     "output_type": "display_data"
    },
    {
     "data": {
      "application/vnd.jupyter.widget-view+json": {
       "model_id": "e1791fc7318a4de191e05efab0bcb204",
       "version_major": 2,
       "version_minor": 0
      },
      "text/plain": [
       "Creating parquet from Arrow format:   0%|          | 0/157 [00:00<?, ?ba/s]"
      ]
     },
     "metadata": {},
     "output_type": "display_data"
    },
    {
     "data": {
      "application/vnd.jupyter.widget-view+json": {
       "model_id": "458f0392b3bc4e759fc7868e0fd48a69",
       "version_major": 2,
       "version_minor": 0
      },
      "text/plain": [
       "Creating parquet from Arrow format:   0%|          | 0/157 [00:00<?, ?ba/s]"
      ]
     },
     "metadata": {},
     "output_type": "display_data"
    },
    {
     "data": {
      "application/vnd.jupyter.widget-view+json": {
       "model_id": "50f0b9fb940d4ea2bb83bf8c18ee451b",
       "version_major": 2,
       "version_minor": 0
      },
      "text/plain": [
       "Creating parquet from Arrow format:   0%|          | 0/157 [00:00<?, ?ba/s]"
      ]
     },
     "metadata": {},
     "output_type": "display_data"
    },
    {
     "data": {
      "application/vnd.jupyter.widget-view+json": {
       "model_id": "2739faa2e8e044c593b7749d717394f0",
       "version_major": 2,
       "version_minor": 0
      },
      "text/plain": [
       "Creating parquet from Arrow format:   0%|          | 0/157 [00:00<?, ?ba/s]"
      ]
     },
     "metadata": {},
     "output_type": "display_data"
    },
    {
     "data": {
      "application/vnd.jupyter.widget-view+json": {
       "model_id": "c641ca71da76407fbd8c8c3253473178",
       "version_major": 2,
       "version_minor": 0
      },
      "text/plain": [
       "Creating parquet from Arrow format:   0%|          | 0/157 [00:00<?, ?ba/s]"
      ]
     },
     "metadata": {},
     "output_type": "display_data"
    },
    {
     "data": {
      "application/vnd.jupyter.widget-view+json": {
       "model_id": "15b8399b11c1430b933bd75dc51253eb",
       "version_major": 2,
       "version_minor": 0
      },
      "text/plain": [
       "Creating parquet from Arrow format:   0%|          | 0/157 [00:00<?, ?ba/s]"
      ]
     },
     "metadata": {},
     "output_type": "display_data"
    },
    {
     "data": {
      "text/plain": [
       "CommitInfo(commit_url='https://huggingface.co/datasets/AdhirajSingh1206/TREC-Zero-Shot-Product-Search/commit/732a7c2c810da329248cca6ba42bbffe251bb4f1', commit_message='Upload dataset', commit_description='', oid='732a7c2c810da329248cca6ba42bbffe251bb4f1', pr_url=None, pr_revision=None, pr_num=None)"
      ]
     },
     "execution_count": 12,
     "metadata": {},
     "output_type": "execute_result"
    }
   ],
   "source": [
    "hf_dataset.push_to_hub(\"AdhirajSingh1206/TREC-Zero-Shot-Product-Search\", split=\"full\")"
   ]
  },
  {
   "cell_type": "code",
   "execution_count": 13,
   "id": "045593b0-8baa-45f3-bda0-5e452da09d00",
   "metadata": {
    "tags": []
   },
   "outputs": [
    {
     "data": {
      "application/vnd.jupyter.widget-view+json": {
       "model_id": "6bb17e55a93446eb9e03e3b2f8383a34",
       "version_major": 2,
       "version_minor": 0
      },
      "text/plain": [
       "Downloading readme:   0%|          | 0.00/636 [00:00<?, ?B/s]"
      ]
     },
     "metadata": {},
     "output_type": "display_data"
    },
    {
     "data": {
      "application/vnd.jupyter.widget-view+json": {
       "model_id": "3caff73551534a3bb8d577cf374b2583",
       "version_major": 2,
       "version_minor": 0
      },
      "text/plain": [
       "Resolving data files:   0%|          | 0/21 [00:00<?, ?it/s]"
      ]
     },
     "metadata": {},
     "output_type": "display_data"
    },
    {
     "data": {
      "application/vnd.jupyter.widget-view+json": {
       "model_id": "a381ea3afd034d698624505de3ebf326",
       "version_major": 2,
       "version_minor": 0
      },
      "text/plain": [
       "Resolving data files:   0%|          | 0/21 [00:00<?, ?it/s]"
      ]
     },
     "metadata": {},
     "output_type": "display_data"
    },
    {
     "data": {
      "application/vnd.jupyter.widget-view+json": {
       "model_id": "beea5902601a4e11b0ef794304b558a1",
       "version_major": 2,
       "version_minor": 0
      },
      "text/plain": [
       "Downloading data:   0%|          | 0/21 [00:00<?, ?files/s]"
      ]
     },
     "metadata": {},
     "output_type": "display_data"
    },
    {
     "data": {
      "application/vnd.jupyter.widget-view+json": {
       "model_id": "8d240422e1e84171bb567245539c3395",
       "version_major": 2,
       "version_minor": 0
      },
      "text/plain": [
       "Generating full split:   0%|          | 0/3289116 [00:00<?, ? examples/s]"
      ]
     },
     "metadata": {},
     "output_type": "display_data"
    },
    {
     "data": {
      "application/vnd.jupyter.widget-view+json": {
       "model_id": "e10d919765eb4190aca8eab123c82b3b",
       "version_major": 2,
       "version_minor": 0
      },
      "text/plain": [
       "Loading dataset shards:   0%|          | 0/21 [00:00<?, ?it/s]"
      ]
     },
     "metadata": {},
     "output_type": "display_data"
    },
    {
     "name": "stdout",
     "output_type": "stream",
     "text": [
      "3289116\n"
     ]
    },
    {
     "data": {
      "text/html": [
       "<div>\n",
       "<style scoped>\n",
       "    .dataframe tbody tr th:only-of-type {\n",
       "        vertical-align: middle;\n",
       "    }\n",
       "\n",
       "    .dataframe tbody tr th {\n",
       "        vertical-align: top;\n",
       "    }\n",
       "\n",
       "    .dataframe thead th {\n",
       "        text-align: right;\n",
       "    }\n",
       "</style>\n",
       "<table border=\"1\" class=\"dataframe\">\n",
       "  <thead>\n",
       "    <tr style=\"text-align: right;\">\n",
       "      <th></th>\n",
       "      <th>main_category</th>\n",
       "      <th>title</th>\n",
       "      <th>average_rating</th>\n",
       "      <th>rating_number</th>\n",
       "      <th>features</th>\n",
       "      <th>description</th>\n",
       "      <th>images</th>\n",
       "      <th>videos</th>\n",
       "      <th>details</th>\n",
       "      <th>parent_asin</th>\n",
       "    </tr>\n",
       "  </thead>\n",
       "  <tbody>\n",
       "    <tr>\n",
       "      <th>0</th>\n",
       "      <td>All Beauty</td>\n",
       "      <td>The Body Shop Deep Sleep Peaceful Body Moistur...</td>\n",
       "      <td>3.0</td>\n",
       "      <td>2</td>\n",
       "      <td>['Calming, skin-softening moisturizer'\\n 'Cont...</td>\n",
       "      <td>['Best if you want to: Smooth on a dreamy mois...</td>\n",
       "      <td>{'hi_res': array([None], dtype=object), 'large...</td>\n",
       "      <td>{'title': array([], dtype=object), 'url': arra...</td>\n",
       "      <td>{\"Package Dimensions\": \"3.6 x 3.6 x 1.9 inches...</td>\n",
       "      <td>B001AWJJN6</td>\n",
       "    </tr>\n",
       "    <tr>\n",
       "      <th>1</th>\n",
       "      <td>Arts, Crafts &amp; Sewing</td>\n",
       "      <td>Copic Markers VRF-R56V Various Ink - 25CC - Cu...</td>\n",
       "      <td>5.0</td>\n",
       "      <td>1</td>\n",
       "      <td>['Angled, dropper style tip for easy refilling...</td>\n",
       "      <td>['Markers can be refilled using the booster by...</td>\n",
       "      <td>{'hi_res': array(['https://m.media-amazon.com/...</td>\n",
       "      <td>{'title': array([], dtype=object), 'url': arra...</td>\n",
       "      <td>{\"Product Dimensions\": \"4.75 x 1 x 0.63 inches...</td>\n",
       "      <td>B008001U7O</td>\n",
       "    </tr>\n",
       "    <tr>\n",
       "      <th>2</th>\n",
       "      <td>Books</td>\n",
       "      <td>El niño que vivía en las estrellas (Serie Azul...</td>\n",
       "      <td>4.8</td>\n",
       "      <td>7</td>\n",
       "      <td>['Al despacho del doctor Rojas llega un extrañ...</td>\n",
       "      <td>['Book Description'\\n '¿En qué clase de mundo ...</td>\n",
       "      <td>{'hi_res': array([], dtype=object), 'large': a...</td>\n",
       "      <td>{'title': array([], dtype=object), 'url': arra...</td>\n",
       "      <td>{\"Publisher\": \"Santillana Educaci\\u00f3n, S.L....</td>\n",
       "      <td>8420464910</td>\n",
       "    </tr>\n",
       "    <tr>\n",
       "      <th>3</th>\n",
       "      <td>Appstore for Android</td>\n",
       "      <td>Metube: Player for YouTube</td>\n",
       "      <td>3.4</td>\n",
       "      <td>58.0</td>\n",
       "      <td>['search youtube video' 'simple music player' ...</td>\n",
       "      <td>[\"SIMPLE!! FREE!! Youtube music and videos pla...</td>\n",
       "      <td>{'hi_res': array([None, None, None, None, None...</td>\n",
       "      <td>{'title': array([''], dtype=object), 'url': ar...</td>\n",
       "      <td>{\"Release Date\": \"2014\", \"Date first listed on...</td>\n",
       "      <td>B00JYW2U1M</td>\n",
       "    </tr>\n",
       "    <tr>\n",
       "      <th>4</th>\n",
       "      <td>Computers</td>\n",
       "      <td>Dynatron K199 Intel Sandy Bridge Xeon, Core i3...</td>\n",
       "      <td>4.2</td>\n",
       "      <td>50</td>\n",
       "      <td>['Dynatron K199 Intel Sandy Bridge Xeon, Core ...</td>\n",
       "      <td>['Recommend for Intel® Socket LGA 1150, LGA 11...</td>\n",
       "      <td>{'hi_res': array(['https://m.media-amazon.com/...</td>\n",
       "      <td>{'title': array([], dtype=object), 'url': arra...</td>\n",
       "      <td>{\"Brand\": \"Dynatron\", \"Series\": \"K199\", \"Item ...</td>\n",
       "      <td>B005OYEU7G</td>\n",
       "    </tr>\n",
       "  </tbody>\n",
       "</table>\n",
       "</div>"
      ],
      "text/plain": [
       "           main_category                                              title  \\\n",
       "0             All Beauty  The Body Shop Deep Sleep Peaceful Body Moistur...   \n",
       "1  Arts, Crafts & Sewing  Copic Markers VRF-R56V Various Ink - 25CC - Cu...   \n",
       "2                  Books  El niño que vivía en las estrellas (Serie Azul...   \n",
       "3   Appstore for Android                         Metube: Player for YouTube   \n",
       "4              Computers  Dynatron K199 Intel Sandy Bridge Xeon, Core i3...   \n",
       "\n",
       "  average_rating rating_number  \\\n",
       "0            3.0             2   \n",
       "1            5.0             1   \n",
       "2            4.8             7   \n",
       "3            3.4          58.0   \n",
       "4            4.2            50   \n",
       "\n",
       "                                            features  \\\n",
       "0  ['Calming, skin-softening moisturizer'\\n 'Cont...   \n",
       "1  ['Angled, dropper style tip for easy refilling...   \n",
       "2  ['Al despacho del doctor Rojas llega un extrañ...   \n",
       "3  ['search youtube video' 'simple music player' ...   \n",
       "4  ['Dynatron K199 Intel Sandy Bridge Xeon, Core ...   \n",
       "\n",
       "                                         description  \\\n",
       "0  ['Best if you want to: Smooth on a dreamy mois...   \n",
       "1  ['Markers can be refilled using the booster by...   \n",
       "2  ['Book Description'\\n '¿En qué clase de mundo ...   \n",
       "3  [\"SIMPLE!! FREE!! Youtube music and videos pla...   \n",
       "4  ['Recommend for Intel® Socket LGA 1150, LGA 11...   \n",
       "\n",
       "                                              images  \\\n",
       "0  {'hi_res': array([None], dtype=object), 'large...   \n",
       "1  {'hi_res': array(['https://m.media-amazon.com/...   \n",
       "2  {'hi_res': array([], dtype=object), 'large': a...   \n",
       "3  {'hi_res': array([None, None, None, None, None...   \n",
       "4  {'hi_res': array(['https://m.media-amazon.com/...   \n",
       "\n",
       "                                              videos  \\\n",
       "0  {'title': array([], dtype=object), 'url': arra...   \n",
       "1  {'title': array([], dtype=object), 'url': arra...   \n",
       "2  {'title': array([], dtype=object), 'url': arra...   \n",
       "3  {'title': array([''], dtype=object), 'url': ar...   \n",
       "4  {'title': array([], dtype=object), 'url': arra...   \n",
       "\n",
       "                                             details parent_asin  \n",
       "0  {\"Package Dimensions\": \"3.6 x 3.6 x 1.9 inches...  B001AWJJN6  \n",
       "1  {\"Product Dimensions\": \"4.75 x 1 x 0.63 inches...  B008001U7O  \n",
       "2  {\"Publisher\": \"Santillana Educaci\\u00f3n, S.L....  8420464910  \n",
       "3  {\"Release Date\": \"2014\", \"Date first listed on...  B00JYW2U1M  \n",
       "4  {\"Brand\": \"Dynatron\", \"Series\": \"K199\", \"Item ...  B005OYEU7G  "
      ]
     },
     "execution_count": 13,
     "metadata": {},
     "output_type": "execute_result"
    }
   ],
   "source": [
    "from datasets import load_dataset\n",
    "dataset = load_dataset(\"AdhirajSingh1206/TREC-Zero-Shot-Product-Search\", split=\"full\")\n",
    "dataset = dataset.to_pandas()\n",
    "print(len(dataset))\n",
    "dataset.head()"
   ]
  }
 ],
 "metadata": {
  "environment": {
   "kernel": "python3",
   "name": ".m120",
   "type": "gcloud",
   "uri": "us-docker.pkg.dev/deeplearning-platform-release/gcr.io/:m120"
  },
  "kernelspec": {
   "display_name": "Python 3",
   "language": "python",
   "name": "python3"
  },
  "language_info": {
   "codemirror_mode": {
    "name": "ipython",
    "version": 3
   },
   "file_extension": ".py",
   "mimetype": "text/x-python",
   "name": "python",
   "nbconvert_exporter": "python",
   "pygments_lexer": "ipython3",
   "version": "3.10.14"
  }
 },
 "nbformat": 4,
 "nbformat_minor": 5
}
